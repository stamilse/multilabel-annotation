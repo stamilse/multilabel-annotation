{
 "cells": [
  {
   "cell_type": "code",
   "execution_count": 2,
   "metadata": {},
   "outputs": [],
   "source": [
    "import spacy\n",
    "from spacy.matcher import Matcher\n",
    "\n",
    "nlp = spacy.load('en_core_web_sm')\n",
    "matcher = Matcher(nlp.vocab)"
   ]
  },
  {
   "cell_type": "code",
   "execution_count": 9,
   "metadata": {},
   "outputs": [],
   "source": [
    "d_text1 = \"\"\n",
    "with open('sst_origtrainvoice.train.0.txt','r') as data_file:\n",
    "    f = data_file.readlines()\n",
    "    for line in f:\n",
    "        d_text1 = d_text1 + line"
   ]
  },
  {
   "cell_type": "code",
   "execution_count": 11,
   "metadata": {},
   "outputs": [],
   "source": [
    "import csv\n",
    "\n",
    "with open('multilabel_annotations.csv', 'w') as f:\n",
    "    fieldnames = ['S.No','sentence', 'length']\n",
    "    thewriter = csv.DictWriter(f, fieldnames=fieldnames)\n",
    "    thewriter.writeheader()\n",
    "    thewriter.writerow({'S.No':'zero','sentence':'one', 'length':'two'})"
   ]
  },
  {
   "cell_type": "code",
   "execution_count": null,
   "metadata": {},
   "outputs": [],
   "source": [
    "def calcVerb(text):\n",
    "    length = \"\"\n",
    "    c=0\n",
    "    for word in text:\n",
    "        if(word.pos_=='VERB'):\n",
    "            c=c+1\n",
    "    if(c<3):\n",
    "        length = \"low\"\n",
    "    elif(c<6):\n",
    "        length = \"medium\"\n",
    "    else:\n",
    "        length = \"high\"\n",
    "    return length"
   ]
  },
  {
   "cell_type": "code",
   "execution_count": 5,
   "metadata": {},
   "outputs": [],
   "source": [
    "#PRESENT SIMPLE\n",
    "def func1():\n",
    "    c=0\n",
    "    def on_matchps(matcher, doc, id, matches):\n",
    "        c=1\n",
    "        print(\"PRESENT SIMPLE\")\n",
    "    matcher.add('PS',on_matchps,[{'TAG':'VBZ'}])\n",
    "    matcher.add('PS',on_matchps,[{'TAG':'VBP'}])\n",
    "    if(c==1):\n",
    "        return \"PRESENT SIMPLE\"\n",
    "#PAST SIMPLE\n",
    "def func2():\n",
    "    c=0\n",
    "    def on_matchpastsimple(matcher, doc, id, matches):\n",
    "        print(\"PAST SIMPLE\")\n",
    "        c=1\n",
    "    matcher.add('PAST SIMPLE',on_matchpastsimple,[{'TAG':'VBD'}])\n",
    "    if(c==1):\n",
    "        return \"PAST SIMPLE\"\n",
    "#PRESENT PERFECT CONTINUOUS\n",
    "def func3():\n",
    "    c=0\n",
    "    def on_matchppct(matcher, doc, id, matches):\n",
    "        print(\"PRESENT PERFECT CONTINUOUS\")\n",
    "        c=1\n",
    "    matcher.add('PPCT',on_matchppct,[{\"LOWER\": \"has\"},{\"LOWER\": \"been\"},{'TAG':'VBG'}])\n",
    "    matcher.add('PPCT',on_matchppct,[{'TAG':'MD','OP':'!'},{\"LOWER\": \"have\"},{\"LOWER\": \"been\"},{'TAG':'VBG'}])\n",
    "    if(c==1):\n",
    "        return \"PRESENT PERFECT CONTINUOUS\"\n",
    "#PRESENT PERFECT\n",
    "def func4():\n",
    "    c=0\n",
    "    def on_matchppt(matcher, doc, id, matches):\n",
    "        c=1\n",
    "        print(\"PRESENT PERFECT\")\n",
    "    matcher.add('PPT',on_matchppt,[{\"LOWER\": \"has\"},{'DEP':'neg','OP':'?'},{'DEP':'nsubj','OP':'?'},{'TAG':'VBN'},{'TAG':'VBG','OP':'!'}])\n",
    "    matcher.add('PPT',on_matchppt,[{\"LOWER\": \"have\"},{'DEP':'neg','OP':'?'},{'DEP':'nsubj','OP':'?'},{'TAG':'VBN'},{'TAG':'VBG','OP':'!'}])\n",
    "    if(c==1):\n",
    "        return \"PRESENT PERFECT\"\n",
    "#PRESENT CONTINUOUS\n",
    "def func5():\n",
    "    c=0\n",
    "    def on_matchpc(matcher, doc, id, matches):\n",
    "        c=1\n",
    "        print(\"PRESENT CONTINUOUS\")\n",
    "    matcher.add('PCTense',on_matchpc,[{\"LOWER\": \"is\"},{'DEP':'neg','OP':'?'},{'DEP':'nsubj','OP':'?'},{'POS':'ADV','OP':'?'},{'TAG':'VBG'}])\n",
    "    matcher.add('PCTense',on_matchpc,[{\"LOWER\": \"am\"},{'DEP':'neg','OP':'?'},{'DEP':'nsubj','OP':'?'},{'POS':'ADV','OP':'?'},{'TAG':'VBG'}])\n",
    "    matcher.add('PCTense',on_matchpc,[{\"LOWER\": \"are\"},{'DEP':'neg','OP':'?'},{'DEP':'nsubj','OP':'?'},{'POS':'ADV','OP':'?'},{'TAG':'VBG'}])\n",
    "    if(c==1):\n",
    "        return \"PRESENT CONTINUOUS\"\n",
    "#PAST PERFECT\n",
    "def func6():\n",
    "    c=0\n",
    "    def on_match_pastperf(matcher, doc, id, matches):\n",
    "        c=1\n",
    "        print(\"PAST PERFECT\")\n",
    "    matcher.add('PASTPERF',on_match_pastperf,[{\"TEXT\":\"had\"},{'DEP':'neg','OP':'?'},{'DEP':'nsubj','OP':'?'},{'POS':'ADV','OP':'?'},{'TAG':'VBN'},{'TAG':'VBG','OP':'!'}])\n",
    "    if(c==1):\n",
    "        return \"PAST PERFECT\"\n",
    "#PAST CONTINUOUS\n",
    "def func7():\n",
    "    c=0\n",
    "    def on_match_pastcont(matcher, doc, id,matches):\n",
    "        c=1\n",
    "        print(\"PAST CONTINUOUS\")\n",
    "    matcher.add('PASTCONT',on_match_pastcont,[{\"LOWER\":\"was\"},{'DEP':'neg','OP':'?'},{'DEP':'nsubj','OP':'?'},{'POS':'ADV','OP':'?'},{'TAG':'VBG'}])\n",
    "    matcher.add('PASTCONT',on_match_pastcont,[{\"LOWER\":\"were\"},{'DEP':'neg','OP':'?'},{'DEP':'nsubj','OP':'?'},{'POS':'ADV','OP':'?'},{'TAG':'VBG'}])\n",
    "    if(c==1):\n",
    "        return \"PAST CONTINUOUS\"\n",
    "#PAST PERFECT CONTINUOUS\n",
    "def func8():\n",
    "    c=0\n",
    "    def on_match_pastpc(matcher, doc, id, matches):\n",
    "        c=1\n",
    "        print(\"PAST PERFECT CONTINUOUS\")\n",
    "    matcher.add('PASTPC',on_match_pastpc,[{\"LOWER\":\"had\"},{'DEP':'neg','OP':'?'},{\"LOWER\":\"been\"},{'TAG':'VBG'}])\n",
    "    matcher.add('PASTPC',on_match_pastpc,[{\"LOWER\":\"had\"},{'DEP':'det','OP':'?'},{'DEP':'nsubj','OP':'?'},{\"LOWER\":\"been\"},{'TAG':'VBG'}])\n",
    "    if(c==1):\n",
    "        return \"PAST PERFECT CONTINUOUS\"\n",
    "#FUTURE SIMPLE\n",
    "def func9():\n",
    "    c=0\n",
    "    def on_match_futsim(matcher, doc, id, matches):\n",
    "        c=1\n",
    "        print(\"FUTURE SIMPLE\")\n",
    "    matcher.add('FUTSIM',on_match_futsim,[{'TAG':'MD'},{'DEP':'nsubj','OP':'?'},{'DEP':'neg','OP':'?'},{'TAG':'VB'},{'DEP':'aux','OP':'!'}])\n",
    "    if(c==1):\n",
    "        return \"FUTURE SIMPLE\"\n",
    "#FUTURE CONTINUOUS\n",
    "def func10():\n",
    "    c=0\n",
    "    def on_match_futcont(matcher, doc, id, matches):\n",
    "        c=1\n",
    "        print(\"FUTURE CONTINUOUS\")\n",
    "    matcher.add('FUTCONT',on_match_futcont,[{'TAG':'MD'},{'DEP':'nsubj','OP':'?'},{'DEP':'neg','OP':'?'},{\"LOWER\":\"be\"},{'TAG':'VBG'}])\n",
    "    if(c==1):\n",
    "        return \"FUTURE CONTINUOUS\"\n",
    "#FUTURE PERFECT\n",
    "def func11():\n",
    "    c=0\n",
    "    def on_match_futperf(matcher, doc, id, matches):\n",
    "        c=1\n",
    "        print(\"FUTURE PERFECT\")\n",
    "    matcher.add('FUTPERF',on_match_futperf,[{'TAG':'MD'},{'DEP':'nsubj','OP':'?'},{'DEP':'neg','OP':'?'},{\"LOWER\":\"have\"},{'TAG':'VBN'},{'TAG':'VBG','OP':'!'}])\n",
    "    if(c==1):\n",
    "        return \"FUTURE PERFECT\"\n",
    "#FUTURE PERFECT CONTINUOUS\n",
    "def func12():\n",
    "    c=0\n",
    "    def on_match_futpc(matcher, doc, id, matches):\n",
    "        c=1\n",
    "        print(\"FUTURE PERFECT CONTINUOUS\")\n",
    "    matcher.add('FUTPC',on_match_futpc,[{'TAG':'MD'},{'DEP':'nsubj','OP':'?'},{'DEP':'neg','OP':'?'},{\"LOWER\":\"have\"},{\"LOWER\":\"been\"},{'TAG':'VBG'}])\n",
    "    if(c==1):\n",
    "        return \"FUTURE PERFECT CONTINUOUS\"\n"
   ]
  },
  {
   "cell_type": "code",
   "execution_count": 6,
   "metadata": {},
   "outputs": [
    {
     "name": "stdout",
     "output_type": "stream",
     "text": [
      "FUTURE SIMPLE\n",
      "FUTURE PERFECT CONTINUOUS\n"
     ]
    },
    {
     "data": {
      "text/plain": [
       "[(1130770839555673544, 1, 5), (1377038999712472837, 8, 12)]"
      ]
     },
     "execution_count": 6,
     "metadata": {},
     "output_type": "execute_result"
    }
   ],
   "source": [
    "def tense(text):\n",
    "    func1()\n",
    "    func2()\n",
    "    func3()\n",
    "    func4()\n",
    "    func5()\n",
    "    func6()\n",
    "    func7()\n",
    "    func8()\n",
    "    func9()\n",
    "    func10()\n",
    "    func11()\n",
    "    func12()\n",
    "    \n",
    "    return matcher(nlp(text))\n",
    "\n",
    "s = 'He will not buy a car. They will have been living in Paris for five years.'\n",
    "matcher(nlp(s))\n",
    "#tense(s)"
   ]
  },
  {
   "cell_type": "code",
   "execution_count": 7,
   "metadata": {},
   "outputs": [
    {
     "name": "stdout",
     "output_type": "stream",
     "text": [
      "FUTURE SIMPLE\n",
      "FUTURE PERFECT CONTINUOUS\n"
     ]
    },
    {
     "data": {
      "text/plain": [
       "[(1130770839555673544, 1, 5), (1377038999712472837, 8, 12)]"
      ]
     },
     "execution_count": 7,
     "metadata": {},
     "output_type": "execute_result"
    }
   ],
   "source": [
    "def tense(text):\n",
    "    func1()\n",
    "    func2()\n",
    "    func3()\n",
    "    func4()\n",
    "    func5()\n",
    "    func6()\n",
    "    func7()\n",
    "    func8()\n",
    "    func9()\n",
    "    func10()\n",
    "    func11()\n",
    "    func12()\n",
    "    \n",
    "    return matcher(nlp(text))\n",
    "\n",
    "s = 'He will not buy a car. They will have been living in Paris for five years.'\n",
    "matcher(nlp(s))\n",
    "#tense(s)"
   ]
  },
  {
   "cell_type": "code",
   "execution_count": 12,
   "metadata": {},
   "outputs": [
    {
     "ename": "NameError",
     "evalue": "name 'calcVerb' is not defined",
     "output_type": "error",
     "traceback": [
      "\u001b[1;31m---------------------------------------------------------------------------\u001b[0m",
      "\u001b[1;31mNameError\u001b[0m                                 Traceback (most recent call last)",
      "\u001b[1;32m<ipython-input-12-c32b7082cea4>\u001b[0m in \u001b[0;36m<module>\u001b[1;34m\u001b[0m\n\u001b[0;32m      6\u001b[0m     \u001b[0mthewriter\u001b[0m\u001b[1;33m.\u001b[0m\u001b[0mwriteheader\u001b[0m\u001b[1;33m(\u001b[0m\u001b[1;33m)\u001b[0m\u001b[1;33m\u001b[0m\u001b[1;33m\u001b[0m\u001b[0m\n\u001b[0;32m      7\u001b[0m     \u001b[1;32mfor\u001b[0m \u001b[0mnum\u001b[0m\u001b[1;33m,\u001b[0m\u001b[0msentence\u001b[0m \u001b[1;32min\u001b[0m \u001b[0menumerate\u001b[0m\u001b[1;33m(\u001b[0m\u001b[0mnlp\u001b[0m\u001b[1;33m(\u001b[0m\u001b[0md_text1\u001b[0m\u001b[1;33m)\u001b[0m\u001b[1;33m.\u001b[0m\u001b[0msents\u001b[0m\u001b[1;33m)\u001b[0m\u001b[1;33m:\u001b[0m\u001b[1;33m\u001b[0m\u001b[1;33m\u001b[0m\u001b[0m\n\u001b[1;32m----> 8\u001b[1;33m         \u001b[0mthewriter\u001b[0m\u001b[1;33m.\u001b[0m\u001b[0mwriterow\u001b[0m\u001b[1;33m(\u001b[0m\u001b[1;33m{\u001b[0m\u001b[1;34m'S.No'\u001b[0m\u001b[1;33m:\u001b[0m\u001b[0mnum\u001b[0m\u001b[1;33m,\u001b[0m\u001b[1;34m'sentence'\u001b[0m\u001b[1;33m:\u001b[0m\u001b[0msentence\u001b[0m\u001b[1;33m,\u001b[0m \u001b[1;34m'length'\u001b[0m\u001b[1;33m:\u001b[0m\u001b[0mcalcVerb\u001b[0m\u001b[1;33m(\u001b[0m\u001b[0msentence\u001b[0m\u001b[1;33m)\u001b[0m\u001b[1;33m}\u001b[0m\u001b[1;33m)\u001b[0m\u001b[1;33m\u001b[0m\u001b[1;33m\u001b[0m\u001b[0m\n\u001b[0m\u001b[0;32m      9\u001b[0m         \u001b[0mprint\u001b[0m\u001b[1;33m(\u001b[0m\u001b[1;34mf'{num}: {sentence}'\u001b[0m\u001b[1;33m)\u001b[0m\u001b[1;33m\u001b[0m\u001b[1;33m\u001b[0m\u001b[0m\n\u001b[0;32m     10\u001b[0m         \u001b[0mprint\u001b[0m\u001b[1;33m(\u001b[0m\u001b[0mcalcVerb\u001b[0m\u001b[1;33m(\u001b[0m\u001b[0msentence\u001b[0m\u001b[1;33m)\u001b[0m\u001b[1;33m)\u001b[0m\u001b[1;33m\u001b[0m\u001b[1;33m\u001b[0m\u001b[0m\n",
      "\u001b[1;31mNameError\u001b[0m: name 'calcVerb' is not defined"
     ]
    }
   ],
   "source": [
    "import csv\n",
    "\n",
    "with open('multilabel_annotations.csv', 'w') as f:\n",
    "    fieldnames = ['S.No','sentence', 'length']\n",
    "    thewriter = csv.DictWriter(f, fieldnames=fieldnames)\n",
    "    thewriter.writeheader()\n",
    "    for num,sentence in enumerate(nlp(d_text1).sents):\n",
    "        thewriter.writerow({'S.No':num,'sentence':sentence, 'length':calcVerb(sentence)})\n",
    "        print(f'{num}: {sentence}')\n",
    "        print(calcVerb(sentence))"
   ]
  },
  {
   "cell_type": "code",
   "execution_count": null,
   "metadata": {},
   "outputs": [],
   "source": [
    "f.close()"
   ]
  },
  {
   "cell_type": "code",
   "execution_count": null,
   "metadata": {},
   "outputs": [],
   "source": []
  }
 ],
 "metadata": {
  "kernelspec": {
   "display_name": "Python 3",
   "language": "python",
   "name": "python3"
  },
  "language_info": {
   "codemirror_mode": {
    "name": "ipython",
    "version": 3
   },
   "file_extension": ".py",
   "mimetype": "text/x-python",
   "name": "python",
   "nbconvert_exporter": "python",
   "pygments_lexer": "ipython3",
   "version": "3.7.3"
  }
 },
 "nbformat": 4,
 "nbformat_minor": 2
}
