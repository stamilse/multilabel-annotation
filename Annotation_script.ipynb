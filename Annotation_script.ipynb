{
 "cells": [
  {
   "cell_type": "code",
   "execution_count": 1,
   "metadata": {},
   "outputs": [],
   "source": [
    "import spacy\n",
    "from spacy.matcher import Matcher\n",
    "\n",
    "nlp = spacy.load('en_core_web_sm')\n",
    "matcher = Matcher(nlp.vocab)"
   ]
  },
  {
   "cell_type": "code",
   "execution_count": 2,
   "metadata": {},
   "outputs": [],
   "source": [
    "d_text1 = \"\"\n",
    "with open('sst_origtrainvoice.train.0.txt','r') as data_file:\n",
    "    f = data_file.readlines()\n",
    "    for line in f:\n",
    "        d_text1 = d_text1 + line"
   ]
  },
  {
   "cell_type": "code",
   "execution_count": null,
   "metadata": {},
   "outputs": [],
   "source": [
    "import csv\n",
    "\n",
    "with open('multilabel_annotations.csv', 'w') as f:\n",
    "    fieldnames = ['S.No','sentence', 'length']\n",
    "    thewriter = csv.DictWriter(f, fieldnames=fieldnames)\n",
    "    thewriter.writeheader()\n",
    "    thewriter.writerow({'S.No':'zero','sentence':'one', 'length':'two'})"
   ]
  },
  {
   "cell_type": "code",
   "execution_count": null,
   "metadata": {},
   "outputs": [],
   "source": [
    "def calcVerb(text):\n",
    "    length = \"\"\n",
    "    c=0\n",
    "    for word in text:\n",
    "        if(word.pos_=='VERB'):\n",
    "            c=c+1\n",
    "    if(c<3):\n",
    "        length = \"low\"\n",
    "    elif(c<6):\n",
    "        length = \"medium\"\n",
    "    else:\n",
    "        length = \"high\"\n",
    "    return length"
   ]
  },
  {
   "cell_type": "code",
   "execution_count": 3,
   "metadata": {},
   "outputs": [],
   "source": [
    "#PRESENT SIMPLE\n",
    "def on_matchps(matcher, doc, id, matches):\n",
    "    print(\"PRESENT SIMPLE\")\n",
    "matcher.add('PS',on_matchps,[{'TAG':'VBZ'}])\n",
    "matcher.add('PS',on_matchps,[{'TAG':'VBP'}])\n",
    "\n",
    "#PAST SIMPLE\n",
    "def on_matchpastsimple(matcher, doc, id, matches):\n",
    "    print(\"PAST SIMPLE\")\n",
    "matcher.add('PAST SIMPLE',on_matchpastsimple,[{'TAG':'VBD'}])\n",
    "\n",
    "#PRESENT PERFECT CONTINUOUS\n",
    "def on_matchppct(matcher, doc, id, matches):\n",
    "    print(\"PRESENT PERFECT CONTINUOUS\")\n",
    "matcher.add('PPCT',on_matchppct,[{\"LOWER\": \"has\"},{\"LOWER\": \"been\"},{'TAG':'VBG'}])\n",
    "matcher.add('PPCT',on_matchppct,[{'TAG':'MD','OP':'!'},{\"LOWER\": \"have\"},{\"LOWER\": \"been\"},{'TAG':'VBG'}])\n",
    "\n",
    "#PRESENT PERFECT\n",
    "def on_matchppt(matcher, doc, id, matches):\n",
    "    print(\"PRESENT PERFECT\")\n",
    "matcher.add('PPT',on_matchppt,[{\"LOWER\": \"has\"},{'DEP':'neg','OP':'?'},{'DEP':'nsubj','OP':'?'},{'TAG':'VBN'},{'TAG':'VBG','OP':'!'}])\n",
    "matcher.add('PPT',on_matchppt,[{\"LOWER\": \"have\"},{'DEP':'neg','OP':'?'},{'DEP':'nsubj','OP':'?'},{'TAG':'VBN'},{'TAG':'VBG','OP':'!'}])\n",
    "\n",
    "#PRESENT CONTINUOUS\n",
    "def on_matchpc(matcher, doc, id, matches):\n",
    "        print(\"PRESENT CONTINUOUS\")\n",
    "matcher.add('PCTense',on_matchpc,[{\"LOWER\": \"is\"},{'DEP':'neg','OP':'?'},{'DEP':'nsubj','OP':'?'},{'POS':'ADV','OP':'?'},{'TAG':'VBG'}])\n",
    "matcher.add('PCTense',on_matchpc,[{\"LOWER\": \"am\"},{'DEP':'neg','OP':'?'},{'DEP':'nsubj','OP':'?'},{'POS':'ADV','OP':'?'},{'TAG':'VBG'}])\n",
    "matcher.add('PCTense',on_matchpc,[{\"LOWER\": \"are\"},{'DEP':'neg','OP':'?'},{'DEP':'nsubj','OP':'?'},{'POS':'ADV','OP':'?'},{'TAG':'VBG'}])\n",
    "\n",
    "#PAST PERFECT\n",
    "def on_match_pastperf(matcher, doc, id, matches):\n",
    "    print(\"PAST PERFECT\")\n",
    "matcher.add('PASTPERF',on_match_pastperf,[{\"TEXT\":\"had\"},{'DEP':'neg','OP':'?'},{'DEP':'nsubj','OP':'?'},{'POS':'ADV','OP':'?'},{'TAG':'VBN'},{'TAG':'VBG','OP':'!'}])\n",
    "\n",
    "#PAST CONTINUOUS\n",
    "def on_match_pastcont(matcher, doc, id,matches):\n",
    "    print(\"PAST CONTINUOUS\")\n",
    "matcher.add('PASTCONT',on_match_pastcont,[{\"LOWER\":\"was\"},{'DEP':'neg','OP':'?'},{'DEP':'nsubj','OP':'?'},{'POS':'ADV','OP':'?'},{'TAG':'VBG'}])\n",
    "matcher.add('PASTCONT',on_match_pastcont,[{\"LOWER\":\"were\"},{'DEP':'neg','OP':'?'},{'DEP':'nsubj','OP':'?'},{'POS':'ADV','OP':'?'},{'TAG':'VBG'}])\n",
    "\n",
    "#PAST PERFECT CONTINUOUS\n",
    "def on_match_pastpc(matcher, doc, id, matches):\n",
    "    print(\"PAST PERFECT CONTINUOUS\")\n",
    "matcher.add('PASTPC',on_match_pastpc,[{\"LOWER\":\"had\"},{'DEP':'neg','OP':'?'},{\"LOWER\":\"been\"},{'TAG':'VBG'}])\n",
    "matcher.add('PASTPC',on_match_pastpc,[{\"LOWER\":\"had\"},{'DEP':'det','OP':'?'},{'DEP':'nsubj','OP':'?'},{\"LOWER\":\"been\"},{'TAG':'VBG'}])\n",
    "\n",
    "#FUTURE SIMPLE\n",
    "def on_match_futsim(matcher, doc, id, matches):\n",
    "    print(\"FUTURE SIMPLE\")\n",
    "matcher.add('FUTSIM',on_match_futsim,[{'TAG':'MD'},{'DEP':'nsubj','OP':'?'},{'DEP':'neg','OP':'?'},{'TAG':'VB'},{'DEP':'aux','OP':'!'}])\n",
    "\n",
    "#FUTURE CONTINUOUS\n",
    "def on_match_futcont(matcher, doc, id, matches):\n",
    "    print(\"FUTURE CONTINUOUS\")\n",
    "matcher.add('FUTCONT',on_match_futcont,[{'TAG':'MD'},{'DEP':'nsubj','OP':'?'},{'DEP':'neg','OP':'?'},{\"LOWER\":\"be\"},{'TAG':'VBG'}])\n",
    "\n",
    "#FUTURE PERFECT\n",
    "def on_match_futperf(matcher, doc, id, matches):\n",
    "    print(\"FUTURE PERFECT\")\n",
    "matcher.add('FUTPERF',on_match_futperf,[{'TAG':'MD'},{'DEP':'nsubj','OP':'?'},{'DEP':'neg','OP':'?'},{\"LOWER\":\"have\"},{'TAG':'VBN'},{'TAG':'VBG','OP':'!'}])\n",
    "\n",
    "#FUTURE PERFECT CONTINUOUS\n",
    "def on_match_futpc(matcher, doc, id, matches):\n",
    "    print(\"FUTURE PERFECT CONTINUOUS\")\n",
    "matcher.add('FUTPC',on_match_futpc,[{'TAG':'MD'},{'DEP':'nsubj','OP':'?'},{'DEP':'neg','OP':'?'},{\"LOWER\":\"have\"},{\"LOWER\":\"been\"},{'TAG':'VBG'}])"
   ]
  },
  {
   "cell_type": "code",
   "execution_count": 15,
   "metadata": {},
   "outputs": [
    {
     "name": "stdout",
     "output_type": "stream",
     "text": [
      "FUTURE SIMPLE\n",
      "FUTURE PERFECT CONTINUOUS\n"
     ]
    },
    {
     "data": {
      "text/plain": [
       "[(1130770839555673544, 1, 5), (1377038999712472837, 8, 12)]"
      ]
     },
     "execution_count": 15,
     "metadata": {},
     "output_type": "execute_result"
    }
   ],
   "source": [
    "def tense(text):\n",
    "    on_matchps(matcher, doc, id, matches)\n",
    "    on_matchpastsimple(matcher, doc, id, matches)\n",
    "    on_matchppct(matcher, doc, id, matches)\n",
    "    on_matchppt(matcher, doc, id, matches)\n",
    "    on_matchpc(matcher, doc, id, matches)\n",
    "    on_match_pastperf(matcher, doc, id, matches)\n",
    "    on_match_pastcont(matcher, doc, id,matches)\n",
    "    on_match_pastpc(matcher, doc, id, matches)\n",
    "    on_match_futsim(matcher, doc, id, matches)\n",
    "    on_match_futcont(matcher, doc, id, matches)\n",
    "    on_match_futperf(matcher, doc, id, matches)\n",
    "    on_match_futpc(matcher, doc, id, matches)\n",
    "    \n",
    "    return matcher(nlp(text))\n",
    "\n",
    "s = 'He will not buy a car. They will have been living in Paris for five years.'\n",
    "matcher(nlp(s))\n",
    "#tense(s)"
   ]
  },
  {
   "cell_type": "code",
   "execution_count": 16,
   "metadata": {},
   "outputs": [
    {
     "name": "stdout",
     "output_type": "stream",
     "text": [
      "FUTURE SIMPLE\n",
      "FUTURE PERFECT CONTINUOUS\n"
     ]
    },
    {
     "data": {
      "text/plain": [
       "[(1130770839555673544, 1, 5), (1377038999712472837, 8, 12)]"
      ]
     },
     "execution_count": 16,
     "metadata": {},
     "output_type": "execute_result"
    }
   ],
   "source": [
    "def tense(text):\n",
    "    on_matchps()\n",
    "    on_matchpastsimple()\n",
    "    on_matchppct()\n",
    "    on_matchppt()\n",
    "    on_matchpc()\n",
    "    on_match_pastperf()\n",
    "    on_match_pastcont()\n",
    "    on_match_pastpc()\n",
    "    on_match_futsim()\n",
    "    on_match_futcont()\n",
    "    on_match_futperf()\n",
    "    on_match_futpc()\n",
    "    \n",
    "    return matcher(nlp(text))\n",
    "\n",
    "s = 'He will not buy a car. They will have been living in Paris for five years.'\n",
    "matcher(nlp(s))\n",
    "#tense(s)"
   ]
  },
  {
   "cell_type": "code",
   "execution_count": null,
   "metadata": {},
   "outputs": [],
   "source": [
    "import csv\n",
    "\n",
    "with open('multilabel_annotations.csv', 'w') as f:\n",
    "    fieldnames = ['S.No','sentence', 'length']\n",
    "    thewriter = csv.DictWriter(f, fieldnames=fieldnames)\n",
    "    thewriter.writeheader()\n",
    "    for num,sentence in enumerate(nlp(d_text1).sents):\n",
    "        thewriter.writerow({'S.No':num,'sentence':sentence, 'length':calcVerb(sentence)})\n",
    "        print(f'{num}: {sentence}')\n",
    "        print(calcVerb(sentence))"
   ]
  },
  {
   "cell_type": "code",
   "execution_count": null,
   "metadata": {},
   "outputs": [],
   "source": [
    "f.close()"
   ]
  },
  {
   "cell_type": "code",
   "execution_count": null,
   "metadata": {},
   "outputs": [],
   "source": []
  }
 ],
 "metadata": {
  "kernelspec": {
   "display_name": "Python 3",
   "language": "python",
   "name": "python3"
  },
  "language_info": {
   "codemirror_mode": {
    "name": "ipython",
    "version": 3
   },
   "file_extension": ".py",
   "mimetype": "text/x-python",
   "name": "python",
   "nbconvert_exporter": "python",
   "pygments_lexer": "ipython3",
   "version": "3.6.8rc1"
  }
 },
 "nbformat": 4,
 "nbformat_minor": 2
}
